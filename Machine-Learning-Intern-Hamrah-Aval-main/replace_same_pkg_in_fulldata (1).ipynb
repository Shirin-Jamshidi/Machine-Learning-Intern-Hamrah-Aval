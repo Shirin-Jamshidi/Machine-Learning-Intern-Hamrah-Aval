{
  "cells": [
    {
      "attachments": {},
      "cell_type": "markdown",
      "metadata": {
        "id": "lqdt-kjAE-vo"
      },
      "source": [
        "# All"
      ]
    },
    {
      "attachments": {},
      "cell_type": "markdown",
      "metadata": {
        "id": "7Nz9gMBH9Dce"
      },
      "source": [
        "##### Import library"
      ]
    },
    {
      "cell_type": "code",
      "execution_count": null,
      "metadata": {
        "id": "WbkuQLeD8sUz"
      },
      "outputs": [],
      "source": [
        "import numpy as np\n",
        "import pandas as pd\n",
        "import os\n",
        "import cv2\n",
        "from scipy.signal import correlate2d\n",
        "import matplotlib.pyplot as plt"
      ]
    },
    {
      "attachments": {},
      "cell_type": "markdown",
      "metadata": {
        "id": "mHzTp1ps9OLF"
      },
      "source": [
        "##### Read file"
      ]
    },
    {
      "cell_type": "code",
      "execution_count": null,
      "metadata": {
        "colab": {
          "base_uri": "https://localhost:8080/"
        },
        "id": "9vnljzYb9RlW",
        "outputId": "09d27c4b-76fa-4d9d-da42-b13ddb572cc6"
      },
      "outputs": [],
      "source": [
        "df = pd.read_excel(r\"PackageDetails.xlsx\")\n",
        "print(df)"
      ]
    },
    {
      "attachments": {},
      "cell_type": "markdown",
      "metadata": {
        "id": "jOyqd2O2xbQv"
      },
      "source": [
        "##### finding unique pkg"
      ]
    },
    {
      "cell_type": "code",
      "execution_count": null,
      "metadata": {
        "colab": {
          "base_uri": "https://localhost:8080/"
        },
        "id": "1KkqAHiNJzOM",
        "outputId": "433b257b-6ba1-4243-d2ba-f9b757c42be7"
      },
      "outputs": [],
      "source": [
        "df.reset_index(inplace=True, drop=True)\n",
        "lists_duplicated = []\n",
        "for index, row in df.iterrows():\n",
        "    # Access row values using row['column_name']\n",
        "    price = row['Price(ريال)']\n",
        "    volume = row['Volume']\n",
        "    duration = row['Duration (Days)']\n",
        "    ATL_BTL = row['ATL/BTL']\n",
        "    for i in range(len(df)):\n",
        "        if price == df['Price(ريال)'].iloc[i] and volume == df['Volume'].iloc[i] and duration == df['Duration (Days)'].iloc[i] and ATL_BTL == df['ATL/BTL'].iloc[i] and  i != index:\n",
        "            my_list = [df[\"Code\"].iloc[i], df[\"Code\"].iloc[index]]\n",
        "            my_list.sort()\n",
        "            lists_duplicated.append(my_list)\n",
        "        # if price == df['Price(ريال)'].iloc[i] and volume == df['Volume'].iloc[i] and duration == df['Duration (Days)'].iloc[i] and ATL_BTL != df['ATL/BTL'].iloc[i] and i != index:\n",
        "        #   print(\"diff ATL & BTL \" ,df[\"Code\"].iloc[i], df[\"Code\"].iloc[index])\n",
        "#sorting list and remove duplicated tuples\n",
        "tuple_list = [tuple(item) for item in lists_duplicated]\n",
        "unique_tuples = set(tuple_list)\n",
        "lists_duplicated_new = [list(item) for item in unique_tuples]\n",
        "\n",
        "print(lists_duplicated_new)\n",
        "\n"
      ]
    },
    {
      "attachments": {},
      "cell_type": "markdown",
      "metadata": {
        "id": "wloCD9kBxXmZ"
      },
      "source": [
        "#### replace unique pkg in full data2"
      ]
    },
    {
      "attachments": {},
      "cell_type": "markdown",
      "metadata": {
        "id": "xDAugcpDyVji"
      },
      "source": [
        "##### read full data2"
      ]
    },
    {
      "cell_type": "code",
      "execution_count": null,
      "metadata": {
        "colab": {
          "base_uri": "https://localhost:8080/"
        },
        "id": "O3Gc9t30xXL3",
        "outputId": "68e13aec-f3d4-4ca6-b7cb-8c6feef3a00d"
      },
      "outputs": [],
      "source": [
        "Full_Data = pd.read_csv(r\"Full_Data2.csv\")\n",
        "print(type(Full_Data))"
      ]
    },
    {
      "attachments": {},
      "cell_type": "markdown",
      "metadata": {
        "id": "ojnPdrPsyaEK"
      },
      "source": [
        "##### replace new num"
      ]
    },
    {
      "cell_type": "code",
      "execution_count": null,
      "metadata": {
        "id": "FkrRfArAyZuR"
      },
      "outputs": [],
      "source": [
        "for i in range(len(Full_Data)):\n",
        "  for j in range(len(lists_duplicated_new)):\n",
        "      if(Full_Data['voice_pkg_code'][i] == lists_duplicated_new[j][1]):\n",
        "        Full_Data['voice_pkg_code'][i] == lists_duplicated_new[j][0]"
      ]
    },
    {
      "cell_type": "code",
      "execution_count": null,
      "metadata": {
        "id": "yH1G5k8BzOSF"
      },
      "outputs": [],
      "source": [
        "Full_Data.to_csv('Full_Data3.csv', index=False)\n"
      ]
    }
  ],
  "metadata": {
    "colab": {
      "collapsed_sections": [
        "7Nz9gMBH9Dce"
      ],
      "provenance": []
    },
    "kernelspec": {
      "display_name": "Python 3",
      "name": "python3"
    },
    "language_info": {
      "name": "python"
    }
  },
  "nbformat": 4,
  "nbformat_minor": 0
}
